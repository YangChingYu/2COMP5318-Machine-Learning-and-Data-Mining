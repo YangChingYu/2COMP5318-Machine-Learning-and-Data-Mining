{
 "cells": [
  {
   "cell_type": "markdown",
   "metadata": {},
   "source": [
    "# COMP5318 Week 6: Support Vector Machines. Dimensionality Reduction."
   ]
  },
  {
   "cell_type": "markdown",
   "metadata": {},
   "source": [
    "## 1. Setup"
   ]
  },
  {
   "cell_type": "code",
   "execution_count": 1,
   "metadata": {},
   "outputs": [],
   "source": [
    "import numpy as np\n",
    "import pandas as pd\n",
    "import matplotlib.pyplot as plt\n",
    "import os\n",
    "from scipy import signal\n",
    "\n",
    "from sklearn.model_selection import train_test_split\n",
    "from sklearn.preprocessing import MinMaxScaler, StandardScaler\n",
    "from sklearn.pipeline import Pipeline\n",
    "\n",
    "# To make this notebook's output stable across runs\n",
    "np.random.seed(42)\n",
    "\n",
    "# For accuracy_score, classification_report and confusion_matrix\n",
    "from sklearn import metrics\n",
    "from sklearn.metrics import accuracy_score\n",
    "\n",
    "# To plot pretty figures\n",
    "%matplotlib inline\n",
    "import matplotlib as mpl\n",
    "import matplotlib.pyplot as plt\n",
    "mpl.rc('axes', labelsize=14)\n",
    "mpl.rc('xtick', labelsize=12)\n",
    "mpl.rc('ytick', labelsize=12)\n",
    "\n",
    "# Where to save the figures\n",
    "PROJECT_ROOT_DIR = \".\"\n",
    "TOPIC_ID = \"svm\"\n",
    "IMAGES_PATH = os.path.join(PROJECT_ROOT_DIR, \"images\", TOPIC_ID)\n",
    "os.makedirs(IMAGES_PATH, exist_ok=True)\n",
    "\n",
    "def save_fig(fig_id, tight_layout=True, fig_extension=\"png\", resolution=300):\n",
    "    path = os.path.join(IMAGES_PATH, fig_id + \".\" + fig_extension)\n",
    "    print(\"Saving figure\", fig_id)\n",
    "    if tight_layout:\n",
    "        plt.tight_layout()\n",
    "    plt.savefig(path, format=fig_extension, dpi=resolution)\n",
    "    \n",
    "# For plotting MNIST digits in the last exercise\n",
    "def plot_digits(instances, images_per_row=5, **options):\n",
    "    size = 28\n",
    "    images_per_row = min(len(instances), images_per_row)\n",
    "    images = [instance.reshape(size,size) for instance in instances]\n",
    "    n_rows = (len(instances) - 1) // images_per_row + 1\n",
    "    row_images = []\n",
    "    n_empty = n_rows * images_per_row - len(instances)\n",
    "    images.append(np.zeros((size, size * n_empty)))\n",
    "    for row in range(n_rows):\n",
    "        rimages = images[row * images_per_row : (row + 1) * images_per_row]\n",
    "        row_images.append(np.concatenate(rimages, axis=1))\n",
    "    image = np.concatenate(row_images, axis=0)\n",
    "    plt.imshow(image, cmap = mpl.cm.binary, **options)\n",
    "    plt.axis(\"off\")    "
   ]
  },
  {
   "cell_type": "markdown",
   "metadata": {},
   "source": [
    "## 2. Support Vector Machines - Introduction"
   ]
  },
  {
   "cell_type": "markdown",
   "metadata": {},
   "source": [
    "Support Vector Machines (SVMs) are powerful machine learning methods, able to form both linear and non-linear decision boundaries. They can be used for both classification and regression. In this tutorial we will learn how to implement linear and nonlinear SVMs for classification using <b>sklearn</b>. We will also explore the effect of the parameters on SVM's performance. "
   ]
  },
  {
   "cell_type": "markdown",
   "metadata": {},
   "source": [
    "## 3. Prepare and load the data\n",
    "\n",
    "We will use the breast cancer datset as an example. SVM classifiers work better when the features are on the same scale, so we will normalise the data:"
   ]
  },
  {
   "cell_type": "code",
   "execution_count": 16,
   "metadata": {},
   "outputs": [],
   "source": [
    "warnings.filterwarnings(\"ignore\")\n",
    "from sklearn.datasets import load_breast_cancer\n",
    "cancer = load_breast_cancer()\n",
    "\n",
    "\n",
    "# Create the training and test sets\n",
    "\n",
    "from sklearn.model_selection import train_test_split\n",
    "X_train, X_test, y_train, y_test = train_test_split(\n",
    "    cancer.data, cancer.target, stratify=cancer.target, random_state=42)\n",
    "\n",
    "# Normalise data\n",
    "from sklearn.preprocessing import MinMaxScaler\n",
    "scaler = MinMaxScaler()#creating an object\n",
    "scaler.fit(X_train)#calculate min and max value of the training data\n",
    "X_train_norm = scaler.transform(X_train) #apply normalisation to the training set\n",
    "X_test_norm = scaler.transform(X_test) #apply normalization to the test set"
   ]
  },
  {
   "cell_type": "markdown",
   "metadata": {},
   "source": [
    "## 4. Create SVM classifiers"
   ]
  },
  {
   "cell_type": "markdown",
   "metadata": {},
   "source": [
    "We wil use the SVC class to create linear and non-linear SVM classifiers. SVC stands for \"Support Vector Classifier\".\n",
    "\n",
    "We start with creating a linear SVM. We need to set the kernel parametet to \"linear\"; the default is \"rbf\", corresponding to Radial-Basis Function (RBF) kernel, i.e. a non-linear SVM. We can see the other default parameters:"
   ]
  },
  {
   "cell_type": "code",
   "execution_count": 17,
   "metadata": {},
   "outputs": [
    {
     "data": {
      "text/plain": [
       "SVC(C=1.0, cache_size=200, class_weight=None, coef0=0.0,\n",
       "    decision_function_shape='ovr', degree=3, gamma='auto_deprecated',\n",
       "    kernel='linear', max_iter=-1, probability=False, random_state=None,\n",
       "    shrinking=True, tol=0.001, verbose=False)"
      ]
     },
     "execution_count": 17,
     "metadata": {},
     "output_type": "execute_result"
    }
   ],
   "source": [
    "warnings.filterwarnings(\"ignore\")\n",
    "from sklearn.svm import SVC\n",
    "lin_svm = SVC(kernel=\"linear\")\n",
    "lin_svm.fit(X_train_norm, y_train)"
   ]
  },
  {
   "cell_type": "markdown",
   "metadata": {},
   "source": [
    "Testing the linear SVM on the test data:"
   ]
  },
  {
   "cell_type": "code",
   "execution_count": 4,
   "metadata": {},
   "outputs": [
    {
     "name": "stdout",
     "output_type": "stream",
     "text": [
      "Linear SVM - accuracy on test set: 0.979\n"
     ]
    }
   ],
   "source": [
    "y_pred = lin_svm.predict(X_test_norm)\n",
    "print(\"Linear SVM - accuracy on test set: {:.3f}\".format(accuracy_score(y_test, y_pred)))"
   ]
  },
  {
   "cell_type": "markdown",
   "metadata": {},
   "source": [
    "Now let's create two other SVMs - nonlinear, with polynomial and RBF kernels respectively, and compare the results."
   ]
  },
  {
   "cell_type": "code",
   "execution_count": 18,
   "metadata": {},
   "outputs": [
    {
     "name": "stdout",
     "output_type": "stream",
     "text": [
      "SVM with polynomial kernel - accuracy on test set: 0.839\n",
      "SVM with RBF kernel - accuracy on test set: 0.944\n"
     ]
    }
   ],
   "source": [
    "# SVM with polynomial kernel\n",
    "warnings.filterwarnings(\"ignore\")\n",
    "poly_svm = SVC(kernel=\"poly\", degree=2)#polynomial kernel with degree 2\n",
    "poly_svm.fit(X_train_norm, y_train)\n",
    "y_pred = poly_svm.predict(X_test_norm)\n",
    "print(\"SVM with polynomial kernel - accuracy on test set: {:.3f}\".format(accuracy_score(y_test, y_pred)))\n",
    "\n",
    "# SVM with RBF kernel\n",
    "rbf_svm = SVC(kernel=\"rbf\", gamma=\"auto\")\n",
    "rbf_svm.fit(X_train_norm, y_train)\n",
    "y_pred = rbf_svm.predict(X_test_norm)\n",
    "print(\"SVM with RBF kernel - accuracy on test set: {:.3f}\".format(accuracy_score(y_test, y_pred)))"
   ]
  },
  {
   "cell_type": "markdown",
   "metadata": {},
   "source": [
    "## 5. Tuning SVM parameters"
   ]
  },
  {
   "cell_type": "markdown",
   "metadata": {},
   "source": [
    "SVM classifiers are very sensitive to the values of the parameters. To demonstrate this we will use a simpler dataset - the <b>moons</b> dataset. It contsins data from 2 classes described with 2 features; the data points form 2 half circles (moons). Let's generate and plot the data:"
   ]
  },
  {
   "cell_type": "code",
   "execution_count": 6,
   "metadata": {},
   "outputs": [
    {
     "data": {
      "image/png": "[encoded data removed]",
      "text/plain": [
       "<Figure size 432x288 with 1 Axes>"
      ]
     },
     "metadata": {
      "needs_background": "light"
     },
     "output_type": "display_data"
    }
   ],
   "source": [
    "from sklearn.datasets import make_moons\n",
    "X, y = make_moons(n_samples=100, noise=0.15, random_state=42)\n",
    "\n",
    "def plot_dataset(X, y, axes):\n",
    "    plt.plot(X[:, 0][y==0], X[:, 1][y==0], \"bs\")\n",
    "    plt.plot(X[:, 0][y==1], X[:, 1][y==1], \"g^\")\n",
    "    plt.axis(axes)\n",
    "    plt.grid(True, which='both')\n",
    "    plt.xlabel(r\"$x_1$\", fontsize=20)\n",
    "    plt.ylabel(r\"$x_2$\", fontsize=20, rotation=0)\n",
    "\n",
    "plot_dataset(X, y, [-1.5, 2.5, -1, 1.5])\n",
    "plt.show()"
   ]
  },
  {
   "cell_type": "markdown",
   "metadata": {},
   "source": [
    "Now let's run SVM with RBF kernel on the moons dataset, with different values of the gamma and C parameters (the most important parameters) and observe how the decision boundary changes.\n",
    "\n",
    "The parameter C controlds the regularization while the parameter gamma controls the width of the Gaussian kernel - smaller gamma means larger width and vice versa."
   ]
  },
  {
   "cell_type": "code",
   "execution_count": 7,
   "metadata": {},
   "outputs": [
    {
     "name": "stdout",
     "output_type": "stream",
     "text": [
      "Saving figure moons_rbf_svc_plot\n"
     ]
    },
    {
     "data": {
      "image/png": "[encoded data removed]",
      "text/plain": [
       "<Figure size 756x504 with 4 Axes>"
      ]
     },
     "metadata": {
      "needs_background": "light"
     },
     "output_type": "display_data"
    }
   ],
   "source": [
    "# Helper function for plotting the decision boundary\n",
    "def plot_predictions(clf, axes):\n",
    "    x0s = np.linspace(axes[0], axes[1], 100)\n",
    "    x1s = np.linspace(axes[2], axes[3], 100)\n",
    "    x0, x1 = np.meshgrid(x0s, x1s)\n",
    "    X = np.c_[x0.ravel(), x1.ravel()]\n",
    "    y_pred = clf.predict(X).reshape(x0.shape)\n",
    "    y_decision = clf.decision_function(X).reshape(x0.shape)\n",
    "    plt.contourf(x0, x1, y_pred, cmap=plt.cm.brg, alpha=0.2)\n",
    "    plt.contourf(x0, x1, y_decision, cmap=plt.cm.brg, alpha=0.1)\n",
    "\n",
    "# Create SVM with different gamma and C values \n",
    "gamma1, gamma2 = 0.1, 5\n",
    "C1, C2 = 0.001, 1000\n",
    "hyperparams = (gamma1, C1), (gamma1, C2), (gamma2, C1), (gamma2, C2)\n",
    "\n",
    "svm_clfs = []\n",
    "for gamma, C in hyperparams:\n",
    "    rbf_kernel_svm_clf = Pipeline([\n",
    "            (\"scaler\", StandardScaler()),\n",
    "            (\"svm_clf\", SVC(kernel=\"rbf\", gamma=gamma, C=C))\n",
    "        ])\n",
    "    rbf_kernel_svm_clf.fit(X, y)\n",
    "    svm_clfs.append(rbf_kernel_svm_clf)\n",
    "\n",
    "fig, axes = plt.subplots(nrows=2, ncols=2, figsize=(10.5, 7), sharex=True, sharey=True)\n",
    "\n",
    "# Plot the datset and decision boundary\n",
    "for i, svm_clf in enumerate(svm_clfs):\n",
    "    plt.sca(axes[i // 2, i % 2])\n",
    "    plot_predictions(svm_clf, [-1.5, 2.45, -1, 1.5])\n",
    "    plot_dataset(X, y, [-1.5, 2.45, -1, 1.5])\n",
    "    gamma, C = hyperparams[i]\n",
    "    plt.title(r\"$\\gamma = {}, C = {}$\".format(gamma, C), fontsize=16)\n",
    "    if i in (0, 1):\n",
    "        plt.xlabel(\"\")\n",
    "    if i in (1, 3):\n",
    "        plt.ylabel(\"\")\n",
    "\n",
    "save_fig(\"moons_rbf_svc_plot\")\n",
    "plt.show()"
   ]
  },
  {
   "cell_type": "markdown",
   "metadata": {},
   "source": [
    "Going from top to bottom, the value of <b>gamma</b> increases:\n",
    "- a small <b>gamma</b> (top figures) means a large radius of the bell-shaped RBF curve, i.e. the instances have a large receptive field and influence. As a result, the decision boundary is smoother, almost a line in the top-left figure. \n",
    "- a big <b>gamma</b> (bottom figures) means a narrower bell-shape, i.e. each instance has a smaller receptive field and influence. As a result, the decision bountary is more irregular, wiggling around the individual instances.\n",
    "\n",
    "Hence, <b>gamma</b> acts as a regularization parameter - if the SVM model is overfitting, <b>gamma</b> should be reduced; conversely, if it is underfitting - <b>gamma</b> should be increased.\n",
    "\n",
    "Going from left to right, the value of <b>C</b> increases. Similarly to logistic regression and linear models:\n",
    "- small <b>C</b> means a very restricted model, where each point has a small influence. We can see this in the top left figure - the decision boundary is almost a line and the misclassified points do not have any influence on it.\n",
    "- big <b>C</b> means a less restrictive model and a bigger influence of all points. We can see how the decision boundary bends correctly to clasifify the previously misclassified points (compare the left top and left bottom figures).\n",
    "\n",
    "Hence, a smaller <b>C</b> should be used if the model overfits and a larger if it underfits."
   ]
  },
  {
   "cell_type": "markdown",
   "metadata": {},
   "source": [
    "Tuning the SVM parameters is very important. It is necessary to experiment with different types of kernels and other parameters, e.g. using cross validation and grid search. \n",
    "\n",
    "Regarding the type of kernel - the rule of thumb is to try first a linear kernel. In addition to SVC(kernel=\"linear\"), there is another option: using the class LinearSVC. LinearSVC is much faster that SVC(kernel=\"linear\"), especially if the training set is large (has many features and many examples). Next, SVM with RBF kernel should be tried as it typically works well, and then other types of kernels."
   ]
  },
  {
   "cell_type": "markdown",
   "metadata": {},
   "source": [
    "## 6. Tasks: SVM"
   ]
  },
  {
   "cell_type": "markdown",
   "metadata": {},
   "source": [
    "Task 1: Load the iris dataset. Create two SVM classifiers: linear and RBF, and evaluate their accuracy using a single training/test split. Do this for a chosen set of parameter values, e.g. the default."
   ]
  },
  {
   "cell_type": "markdown",
   "metadata": {},
   "source": [
    "Task 2: Consider the RBF SVM classifier. Use grid search with cross-validation to select a good combination of values for <b>C</b> and <b>gamma</b> from the following values: C = {0.001, 0.01, 0.1, 1, 10, 100} and gamma = {0.001, 0.01, 0.1, 1, 10, 100}. Show the accuracy on the test set."
   ]
  },
  {
   "cell_type": "markdown",
   "metadata": {},
   "source": [
    "## 7. Dimensionality Reduction using Principal Component Analysis"
   ]
  },
  {
   "cell_type": "markdown",
   "metadata": {},
   "source": [
    "Principal Component Analysis (PCA) is a very popular method for dimensionality reduction. \n",
    "\n",
    "Let's apply PCA to the breast cancer data. It has 30 features. We can use PCA to find a lower-dimensional representation of this dataset that preserves the essential information. We will then apply a classifier, e.g. 1-nearest neighbor, on the original and reduced datasets and compare the results."
   ]
  },
  {
   "cell_type": "markdown",
   "metadata": {},
   "source": [
    "We have already loaded the breast cancer dataset and split it into training and test set - see Sec. 3 above. To apply PCA, we instantiate the PCA object, find the principle components by calling the <b>fit</b> method (applied to the training set only), and then project the training and test sets into the hyperpane defined by the first <b>n</b> principal components by calling the <b>transform</b> method. \n",
    "\n",
    "We have set the number of components to 2, so the dimensionality reduction is from 30 to 2 dimensions (features). Recall that principal components define a new coordinate system in which the first axis corresponds to the direction of the highest variance in data, the second axis is ortogonal to the first one and corresponds to the second highest variance in data, and so on. We can check that the dimensionality was reduced to 2 by printing the shape of the original and transformed data. "
   ]
  },
  {
   "cell_type": "code",
   "execution_count": 19,
   "metadata": {},
   "outputs": [
    {
     "name": "stdout",
     "output_type": "stream",
     "text": [
      "Original shape of training data: (426, 30)\n",
      "Reduced shape of training data: (426, 2)\n"
     ]
    }
   ],
   "source": [
    "warnings.filterwarnings(\"ignore\")\n",
    "from sklearn.decomposition import PCA\n",
    "# keep the first two principal components of the data\n",
    "# fit PCA model to the normalised breast cancer training data\n",
    "pca = PCA(n_components=2).fit(X_train_norm)\n",
    "\n",
    "# transform training and test data onto the first two principal components\n",
    "X_train_pca = pca.transform(X_train_norm)\n",
    "X_test_pca = pca.transform(X_test_norm)\n",
    "\n",
    "print(\"Original shape of training data: {}\".format(str(X_train_norm.shape)))\n",
    "print(\"Reduced shape of training data: {}\".format(str(X_train_pca.shape)))"
   ]
  },
  {
   "cell_type": "markdown",
   "metadata": {},
   "source": [
    "Let's apply 1-nearest neighbor to the original (30-dimensional) and the reduced (2-dimensional) data. We can see that the accuracy is high in both cases and almost the same: 0.94 vs 0.92. Hence, PCA was able to find a two-dimensional representation where the two classes separate well (accuracy >90%) when using 1-nearest neighbor.\n",
    "\n",
    "Although we didn't see an improvement in accuracy on this dataset, PCA is very useful for highly dimensional data and often results in improved accuracy."
   ]
  },
  {
   "cell_type": "code",
   "execution_count": 20,
   "metadata": {},
   "outputs": [
    {
     "name": "stdout",
     "output_type": "stream",
     "text": [
      "Original data - 1-nn accuracy: 0.94\n",
      "Reduced data - 1-nn accuracy: 0.92\n"
     ]
    }
   ],
   "source": [
    "warnings.filterwarnings(\"ignore\")\n",
    "from sklearn.neighbors import KNeighborsClassifier\n",
    "\n",
    "# Build a KNeighborsClassifier with using one neighbor:\n",
    "knn = KNeighborsClassifier(n_neighbors=1)\n",
    "knn.fit(X_train_norm, y_train)\n",
    "print(\"Original data - 1-nn accuracy: {:.2f}\".format(knn.score(X_test_norm, y_test)))\n",
    "\n",
    "knn = KNeighborsClassifier(n_neighbors=1)\n",
    "knn.fit(X_train_pca, y_train)\n",
    "print(\"Reduced data - 1-nn accuracy: {:.2f}\".format(knn.score(X_test_pca, y_test)))"
   ]
  },
  {
   "cell_type": "markdown",
   "metadata": {},
   "source": [
    "## 8. Choosing the right number of dimensions in PCA"
   ]
  },
  {
   "cell_type": "markdown",
   "metadata": {},
   "source": [
    "In the example above we chose to reduce the dimemsnionality to 2. Instead of arbitrary choosing the number of dimensions for the dimensionality reduction, we can specify the percentage of variance that we would like to preserve. \n",
    "\n",
    "The variable <b>explained_variance_ratio_</b> shows the proportion of the dataset variance that lies along each ptincipal component. For our dataset: 52.75% of the dataset's variance lies along the first principal compoinent and 17.96% lies along the second principal component. This leaves 29.29% for the third and other principal componnets so they will be informative.  "
   ]
  },
  {
   "cell_type": "code",
   "execution_count": 10,
   "metadata": {},
   "outputs": [
    {
     "data": {
      "text/plain": [
       "array([0.527535  , 0.17964211])"
      ]
     },
     "execution_count": 10,
     "metadata": {},
     "output_type": "execute_result"
    }
   ],
   "source": [
    "pca.explained_variance_ratio_"
   ]
  },
  {
   "cell_type": "markdown",
   "metadata": {},
   "source": [
    "We can specify the percentage of variance we want to preserve, which will determine how many principal components to use to preserve this variance:"
   ]
  },
  {
   "cell_type": "code",
   "execution_count": 11,
   "metadata": {},
   "outputs": [
    {
     "name": "stdout",
     "output_type": "stream",
     "text": [
      "Reduced shape of training data: (426, 9)\n"
     ]
    }
   ],
   "source": [
    "pca=PCA(n_components=0.95)\n",
    "X_train_reduced = pca.fit_transform(X_train_norm)\n",
    "\n",
    "print(\"Reduced shape of training data: {}\".format(str(X_train_reduced.shape)))"
   ]
  },
  {
   "cell_type": "markdown",
   "metadata": {},
   "source": [
    "Hence, 9 principal components are required to preseve 95% of the variance on the breast cancer datset.\n",
    "\n",
    "Another option is to plot the explained variance vs the number of dimensions and inspect the graph visually. There will usually be an elbow in the curve, where the explained variance stops growing fast and this will determine the number of dimensions to use. \n",
    "\n",
    "The following code shows how to plot the graph. The elbow is at 5-9 dimensions (determining this is subjective), so the graph suggest that if we chose 5-9 dimensions we would lose little explained variance."
   ]
  },
  {
   "cell_type": "code",
   "execution_count": 12,
   "metadata": {},
   "outputs": [
    {
     "data": {
      "image/png": "[encoded data removed]",
      "text/plain": [
       "<Figure size 432x288 with 1 Axes>"
      ]
     },
     "metadata": {
      "needs_background": "light"
     },
     "output_type": "display_data"
    }
   ],
   "source": [
    "# Perform PCA without reducing dimensionality\n",
    "pca = PCA()\n",
    "pca.fit(X_train_norm)\n",
    "cumsum = np.cumsum(pca.explained_variance_ratio_)\n",
    "\n",
    "# Plot the explained variance vs number of dimensions\n",
    "\n",
    "plt.figure(figsize = (6,4))\n",
    "plt.plot(cumsum, linewidth=3)\n",
    "plt.axis([0, 30, 0, 1]) \n",
    "plt.xlabel(\"dimensions\")\n",
    "plt.ylabel(\"explained variance\")\n",
    "plt.grid(True)\n",
    "plt.show()"
   ]
  },
  {
   "cell_type": "markdown",
   "metadata": {},
   "source": [
    "## 9. Task: PCA for compression"
   ]
  },
  {
   "cell_type": "markdown",
   "metadata": {},
   "source": [
    "PCA can also be applied for compression. We can demonstarte this on the MNIST digits dataset which contains 784 features.\n",
    "\n",
    "Task 3: \n",
    "\n",
    "1) Apply PCA to the MNIST dataset to reduce the number of features preserving 95% of the variance. How many features are needed? Plot the graph showing the explained variance vs the number of dimensions. Use the elbow method to select the number of features.\n",
    "\n",
    "2) Decompress the reduced dataset back to 784 features using the <b>inverse_transform</b> method. Plot some digits from the the original dataset and their corresponding compressed version and observe the difference. Use the <b>plot_digits</b> function to plot the digits. "
   ]
  },
  {
   "cell_type": "markdown",
   "metadata": {},
   "source": [
    "Solution:\n",
    "\n",
    "To help you get started, we have loaded the MNIST dataset. The next step is to split it into training and test set and apply PCA."
   ]
  },
  {
   "cell_type": "code",
   "execution_count": 13,
   "metadata": {},
   "outputs": [],
   "source": [
    "# load the MNIST dataset\n",
    "from sklearn.datasets import fetch_openml\n",
    "\n",
    "mnist = fetch_openml('mnist_784', version=1)\n",
    "mnist.target = mnist.target.astype(np.uint8)"
   ]
  },
  {
   "cell_type": "markdown",
   "metadata": {},
   "source": [
    "## Summary"
   ]
  },
  {
   "cell_type": "code",
   "execution_count": 14,
   "metadata": {},
   "outputs": [
    {
     "name": "stdout",
     "output_type": "stream",
     "text": [
      "Linear SVM - accuracy on test set: 0.979\n",
      "SVM with RBF kernel - accuracy on test set: 0.944\n",
      "Original shape of training data: (426, 30)\n",
      "Reduced shape of training data: (426, 9)\n"
     ]
    }
   ],
   "source": [
    "lin_svm = SVC(kernel=\"linear\")\n",
    "lin_svm.fit(X_train_norm, y_train)\n",
    "y_pred = lin_svm.predict(X_test_norm)\n",
    "print(\"Linear SVM - accuracy on test set: {:.3f}\".format(accuracy_score(y_test, y_pred)))\n",
    "\n",
    "rbf_svm = SVC(kernel=\"rbf\", gamma=\"auto\")\n",
    "rbf_svm.fit(X_train_norm, y_train)\n",
    "y_pred = rbf_svm.predict(X_test_norm)\n",
    "print(\"SVM with RBF kernel - accuracy on test set: {:.3f}\".format(accuracy_score(y_test, y_pred)))\n",
    "\n",
    "pca=PCA(n_components=0.95)\n",
    "X_train_reduced = pca.fit_transform(X_train_norm)\n",
    "X_test_reduced = pca.transform(X_test_norm)\n",
    "print(\"Original shape of training data: {}\".format(str(X_train_norm.shape)))\n",
    "print(\"Reduced shape of training data: {}\".format(str(X_train_reduced.shape)))    "
   ]
  },
  {
   "cell_type": "markdown",
   "metadata": {},
   "source": [
    "## Acknowledgements\n",
    "\n",
    "This tutorial is based on:\n",
    "\n",
    "Aurelien Geron (2019). Hands-on Machine Learning with Scikit-Learn, Keras and TensorFlow, O'Reilly.\n",
    "\n",
    "Andreas C. Mueller and Sarah Guido (2016). Introduction to Machine Learning with Python: A Guide for Data Scientists, O'Reilly.\n"
   ]
  }
 ],
 "metadata": {
  "kernelspec": {
   "display_name": "Python 3",
   "language": "python",
   "name": "python3"
  },
  "language_info": {
   "codemirror_mode": {
    "name": "ipython",
    "version": 3
   },
   "file_extension": ".py",
   "mimetype": "text/x-python",
   "name": "python",
   "nbconvert_exporter": "python",
   "pygments_lexer": "ipython3",
   "version": "3.7.4"
  }
 },
 "nbformat": 4,
 "nbformat_minor": 2
}
