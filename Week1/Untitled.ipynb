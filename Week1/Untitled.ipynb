{
 "cells": [
  {
   "cell_type": "code",
   "execution_count": 1,
   "metadata": {},
   "outputs": [
    {
     "name": "stdout",
     "output_type": "stream",
     "text": [
      "Requirement already satisfied: graphviz in /Users/kevin/.julia/conda/3/lib/python3.7/site-packages (0.16)\n",
      "Note: you may need to restart the kernel to use updated packages.\n"
     ]
    }
   ],
   "source": [
    "pip install graphviz"
   ]
  },
  {
   "cell_type": "code",
   "execution_count": 2,
   "metadata": {},
   "outputs": [
    {
     "data": {
      "text/plain": [
       "'hello.gv.pdf'"
      ]
     },
     "execution_count": 2,
     "metadata": {},
     "output_type": "execute_result"
    }
   ],
   "source": [
    "import graphviz\n",
    "\n",
    "g = graphviz.Digraph('G', filename='hello.gv')\n",
    "\n",
    "g.edge('Hello', 'World')\n",
    "\n",
    "g.view()"
   ]
  },
  {
   "cell_type": "code",
   "execution_count": 3,
   "metadata": {},
   "outputs": [
    {
     "name": "stderr",
     "output_type": "stream",
     "text": [
      "Error: remove_overlap: Graphviz not built with triangulation library\n"
     ]
    },
    {
     "ename": "CalledProcessError",
     "evalue": "Command '['dot', '-Ksfdp', '-Tpdf', '-O', 'process.gv']' returned non-zero exit status 1. [stderr: b'Error: remove_overlap: Graphviz not built with triangulation library\\n']",
     "output_type": "error",
     "traceback": [
      "\u001b[0;31m---------------------------------------------------------------------------\u001b[0m",
      "\u001b[0;31mCalledProcessError\u001b[0m                        Traceback (most recent call last)",
      "\u001b[0;32m<ipython-input-3-9a02b36e6ae4>\u001b[0m in \u001b[0;36m<module>\u001b[0;34m\u001b[0m\n\u001b[1;32m     17\u001b[0m \u001b[0mg\u001b[0m\u001b[0;34m.\u001b[0m\u001b[0medge\u001b[0m\u001b[0;34m(\u001b[0m\u001b[0;34m'sleep'\u001b[0m\u001b[0;34m,\u001b[0m \u001b[0;34m'runmem'\u001b[0m\u001b[0;34m)\u001b[0m\u001b[0;34m\u001b[0m\u001b[0;34m\u001b[0m\u001b[0m\n\u001b[1;32m     18\u001b[0m \u001b[0;34m\u001b[0m\u001b[0m\n\u001b[0;32m---> 19\u001b[0;31m \u001b[0mg\u001b[0m\u001b[0;34m.\u001b[0m\u001b[0mview\u001b[0m\u001b[0;34m(\u001b[0m\u001b[0;34m)\u001b[0m\u001b[0;34m\u001b[0m\u001b[0;34m\u001b[0m\u001b[0m\n\u001b[0m",
      "\u001b[0;32m~/.julia/conda/3/lib/python3.7/site-packages/graphviz/files.py\u001b[0m in \u001b[0;36mview\u001b[0;34m(self, filename, directory, cleanup, quiet, quiet_view)\u001b[0m\n\u001b[1;32m    282\u001b[0m         return self.render(filename=filename, directory=directory,\n\u001b[1;32m    283\u001b[0m                            \u001b[0mview\u001b[0m\u001b[0;34m=\u001b[0m\u001b[0;32mTrue\u001b[0m\u001b[0;34m,\u001b[0m \u001b[0mcleanup\u001b[0m\u001b[0;34m=\u001b[0m\u001b[0mcleanup\u001b[0m\u001b[0;34m,\u001b[0m\u001b[0;34m\u001b[0m\u001b[0;34m\u001b[0m\u001b[0m\n\u001b[0;32m--> 284\u001b[0;31m                            quiet=quiet, quiet_view=quiet_view)\n\u001b[0m\u001b[1;32m    285\u001b[0m \u001b[0;34m\u001b[0m\u001b[0m\n\u001b[1;32m    286\u001b[0m     \u001b[0;32mdef\u001b[0m \u001b[0m_view\u001b[0m\u001b[0;34m(\u001b[0m\u001b[0mself\u001b[0m\u001b[0;34m,\u001b[0m \u001b[0mfilepath\u001b[0m\u001b[0;34m,\u001b[0m \u001b[0mformat\u001b[0m\u001b[0;34m,\u001b[0m \u001b[0mquiet\u001b[0m\u001b[0;34m)\u001b[0m\u001b[0;34m:\u001b[0m\u001b[0;34m\u001b[0m\u001b[0;34m\u001b[0m\u001b[0m\n",
      "\u001b[0;32m~/.julia/conda/3/lib/python3.7/site-packages/graphviz/files.py\u001b[0m in \u001b[0;36mrender\u001b[0;34m(self, filename, directory, view, cleanup, format, renderer, formatter, quiet, quiet_view)\u001b[0m\n\u001b[1;32m    243\u001b[0m         rendered = backend.render(self._engine, format, filepath,\n\u001b[1;32m    244\u001b[0m                                   \u001b[0mrenderer\u001b[0m\u001b[0;34m=\u001b[0m\u001b[0mrenderer\u001b[0m\u001b[0;34m,\u001b[0m \u001b[0mformatter\u001b[0m\u001b[0;34m=\u001b[0m\u001b[0mformatter\u001b[0m\u001b[0;34m,\u001b[0m\u001b[0;34m\u001b[0m\u001b[0;34m\u001b[0m\u001b[0m\n\u001b[0;32m--> 245\u001b[0;31m                                   quiet=quiet)\n\u001b[0m\u001b[1;32m    246\u001b[0m \u001b[0;34m\u001b[0m\u001b[0m\n\u001b[1;32m    247\u001b[0m         \u001b[0;32mif\u001b[0m \u001b[0mcleanup\u001b[0m\u001b[0;34m:\u001b[0m\u001b[0;34m\u001b[0m\u001b[0;34m\u001b[0m\u001b[0m\n",
      "\u001b[0;32m~/.julia/conda/3/lib/python3.7/site-packages/graphviz/backend.py\u001b[0m in \u001b[0;36mrender\u001b[0;34m(***failed resolving arguments***)\u001b[0m\n\u001b[1;32m    223\u001b[0m         \u001b[0mcwd\u001b[0m \u001b[0;34m=\u001b[0m \u001b[0;32mNone\u001b[0m\u001b[0;34m\u001b[0m\u001b[0;34m\u001b[0m\u001b[0m\n\u001b[1;32m    224\u001b[0m \u001b[0;34m\u001b[0m\u001b[0m\n\u001b[0;32m--> 225\u001b[0;31m     \u001b[0mrun\u001b[0m\u001b[0;34m(\u001b[0m\u001b[0mcmd\u001b[0m\u001b[0;34m,\u001b[0m \u001b[0mcapture_output\u001b[0m\u001b[0;34m=\u001b[0m\u001b[0;32mTrue\u001b[0m\u001b[0;34m,\u001b[0m \u001b[0mcwd\u001b[0m\u001b[0;34m=\u001b[0m\u001b[0mcwd\u001b[0m\u001b[0;34m,\u001b[0m \u001b[0mcheck\u001b[0m\u001b[0;34m=\u001b[0m\u001b[0;32mTrue\u001b[0m\u001b[0;34m,\u001b[0m \u001b[0mquiet\u001b[0m\u001b[0;34m=\u001b[0m\u001b[0mquiet\u001b[0m\u001b[0;34m)\u001b[0m\u001b[0;34m\u001b[0m\u001b[0;34m\u001b[0m\u001b[0m\n\u001b[0m\u001b[1;32m    226\u001b[0m     \u001b[0;32mreturn\u001b[0m \u001b[0mrendered\u001b[0m\u001b[0;34m\u001b[0m\u001b[0;34m\u001b[0m\u001b[0m\n\u001b[1;32m    227\u001b[0m \u001b[0;34m\u001b[0m\u001b[0m\n",
      "\u001b[0;32m~/.julia/conda/3/lib/python3.7/site-packages/graphviz/backend.py\u001b[0m in \u001b[0;36mrun\u001b[0;34m(cmd, input, capture_output, check, encoding, quiet, **kwargs)\u001b[0m\n\u001b[1;32m    184\u001b[0m     \u001b[0;32mif\u001b[0m \u001b[0mcheck\u001b[0m \u001b[0;32mand\u001b[0m \u001b[0mproc\u001b[0m\u001b[0;34m.\u001b[0m\u001b[0mreturncode\u001b[0m\u001b[0;34m:\u001b[0m\u001b[0;34m\u001b[0m\u001b[0;34m\u001b[0m\u001b[0m\n\u001b[1;32m    185\u001b[0m         raise CalledProcessError(proc.returncode, cmd,\n\u001b[0;32m--> 186\u001b[0;31m                                  output=out, stderr=err)\n\u001b[0m\u001b[1;32m    187\u001b[0m \u001b[0;34m\u001b[0m\u001b[0m\n\u001b[1;32m    188\u001b[0m     \u001b[0;32mreturn\u001b[0m \u001b[0mout\u001b[0m\u001b[0;34m,\u001b[0m \u001b[0merr\u001b[0m\u001b[0;34m\u001b[0m\u001b[0;34m\u001b[0m\u001b[0m\n",
      "\u001b[0;31mCalledProcessError\u001b[0m: Command '['dot', '-Ksfdp', '-Tpdf', '-O', 'process.gv']' returned non-zero exit status 1. [stderr: b'Error: remove_overlap: Graphviz not built with triangulation library\\n']"
     ]
    }
   ],
   "source": [
    "import graphviz\n",
    "\n",
    "g = graphviz.Graph('G', filename='process.gv', engine='sfdp')\n",
    "\n",
    "g.edge('run', 'intr')\n",
    "g.edge('intr', 'runbl')\n",
    "g.edge('runbl', 'run')\n",
    "g.edge('run', 'kernel')\n",
    "g.edge('kernel', 'zombie')\n",
    "g.edge('kernel', 'sleep')\n",
    "g.edge('kernel', 'runmem')\n",
    "g.edge('sleep', 'swap')\n",
    "g.edge('swap', 'runswap')\n",
    "g.edge('runswap', 'new')\n",
    "g.edge('runswap', 'runmem')\n",
    "g.edge('new', 'runmem')\n",
    "g.edge('sleep', 'runmem')\n",
    "\n",
    "g.view()"
   ]
  },
  {
   "cell_type": "code",
   "execution_count": 4,
   "metadata": {},
   "outputs": [
    {
     "data": {
      "text/plain": [
       "'cluster.gv.pdf'"
      ]
     },
     "execution_count": 4,
     "metadata": {},
     "output_type": "execute_result"
    }
   ],
   "source": [
    "from graphviz import Digraph\n",
    "\n",
    "g = Digraph('G', filename='cluster.gv')\n",
    "\n",
    "# NOTE: the subgraph name needs to begin with 'cluster' (all lowercase)\n",
    "#       so that Graphviz recognizes it as a special cluster subgraph\n",
    "\n",
    "with g.subgraph(name='cluster_0') as c:\n",
    "    c.attr(style='filled', color='lightgrey')\n",
    "    c.node_attr.update(style='filled', color='white')\n",
    "    c.edges([('a0', 'a1'), ('a1', 'a2'), ('a2', 'a3')])\n",
    "    c.attr(label='process #1')\n",
    "\n",
    "with g.subgraph(name='cluster_1') as c:\n",
    "    c.attr(color='blue')\n",
    "    c.node_attr['style'] = 'filled'\n",
    "    c.edges([('b0', 'b1'), ('b1', 'b2'), ('b2', 'b3')])\n",
    "    c.attr(label='process #2')\n",
    "\n",
    "g.edge('start', 'a0')\n",
    "g.edge('start', 'b0')\n",
    "g.edge('a1', 'b3')\n",
    "g.edge('b2', 'a3')\n",
    "g.edge('a3', 'a0')\n",
    "g.edge('a3', 'end')\n",
    "g.edge('b3', 'end')\n",
    "\n",
    "g.node('start', shape='Mdiamond')\n",
    "g.node('end', shape='Msquare')\n",
    "\n",
    "g.view()"
   ]
  },
  {
   "cell_type": "code",
   "execution_count": 5,
   "metadata": {},
   "outputs": [
    {
     "data": {
      "text/plain": [
       "'colors.gv.pdf'"
      ]
     },
     "execution_count": 5,
     "metadata": {},
     "output_type": "execute_result"
    }
   ],
   "source": [
    "import graphviz\n",
    "\n",
    "g = graphviz.Graph(filename='colors.gv')\n",
    "\n",
    "red, green, blue = 64, 224, 208\n",
    "assert f'#{red:x}{green:x}{blue:x}' == '#40e0d0'\n",
    "\n",
    "g.node('RGB: #40e0d0', style='filled', fillcolor='#40e0d0')\n",
    "\n",
    "g.node('RGBA: #ff000042', style='filled', fillcolor='#ff000042')\n",
    "\n",
    "g.node('HSV: 0.051 0.718 0.627', style='filled', fillcolor='0.051 0.718 0.627')\n",
    "\n",
    "g.node('name: deeppink', style='filled', fillcolor='deeppink')\n",
    "\n",
    "g.view()"
   ]
  },
  {
   "cell_type": "code",
   "execution_count": 6,
   "metadata": {},
   "outputs": [
    {
     "data": {
      "text/plain": [
       "'angles.gv.pdf'"
      ]
     },
     "execution_count": 6,
     "metadata": {},
     "output_type": "execute_result"
    }
   ],
   "source": [
    "import graphviz\n",
    "\n",
    "g = graphviz.Digraph('G', filename='angles.gv')\n",
    "g.attr(bgcolor='blue')\n",
    "\n",
    "with g.subgraph(name='cluster_1') as c:\n",
    "    c.attr(fontcolor='white')\n",
    "    c.attr('node', shape='circle', style='filled', fillcolor='white:black',\n",
    "           gradientangle='360', label='n9:360', fontcolor='black')\n",
    "    c.node('n9')\n",
    "    for i, a in zip(range(8, 0, -1), range(360 - 45, -1, -45)):\n",
    "        c.attr('node', gradientangle=f'{a:d}', label=f'n{i:d}:{a:d}')\n",
    "        c.node(f'n{i:d}')\n",
    "    c.attr(label='Linear Angle Variations (white to black gradient)')\n",
    "\n",
    "with g.subgraph(name='cluster_2') as c:\n",
    "    c.attr(fontcolor='white')\n",
    "    c.attr('node', shape='circle', style='radial', fillcolor='white:black',\n",
    "           gradientangle='360', label='n18:360', fontcolor='black')\n",
    "    c.node('n18')\n",
    "    for i, a in zip(range(17, 9, -1), range(360 - 45, -1, -45)):\n",
    "        c.attr('node', gradientangle=f'{a:d}', label=f'n{i:d}:{a:d}')\n",
    "        c.node(f'n{i:d}')\n",
    "    c.attr(label='Radial Angle Variations (white to black gradient)')\n",
    "\n",
    "g.edge('n5', 'n14')\n",
    "\n",
    "g.view()"
   ]
  },
  {
   "cell_type": "code",
   "execution_count": null,
   "metadata": {},
   "outputs": [],
   "source": []
  }
 ],
 "metadata": {
  "kernelspec": {
   "display_name": "Python 3",
   "language": "python",
   "name": "python3"
  },
  "language_info": {
   "codemirror_mode": {
    "name": "ipython",
    "version": 3
   },
   "file_extension": ".py",
   "mimetype": "text/x-python",
   "name": "python",
   "nbconvert_exporter": "python",
   "pygments_lexer": "ipython3",
   "version": "3.7.4"
  }
 },
 "nbformat": 4,
 "nbformat_minor": 2
}
